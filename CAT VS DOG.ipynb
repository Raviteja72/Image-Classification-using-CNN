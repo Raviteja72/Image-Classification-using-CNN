{
 "cells": [
  {
   "cell_type": "code",
   "execution_count": 1,
   "metadata": {},
   "outputs": [],
   "source": [
    "import tensorflow as tf\n",
    "import cv2\n",
    "import numpy as np\n",
    "import pandas as pd\n",
    "import matplotlib.pyplot as plt\n",
    "%matplotlib inline\n",
    "from tqdm import tqdm\n",
    "import os\n",
    "import random"
   ]
  },
  {
   "cell_type": "code",
   "execution_count": 2,
   "metadata": {},
   "outputs": [],
   "source": [
    "TRAIN_DIR = '/Users/apple/Downloads/dogscats/dogscats'\n",
    "TEST_DIR = '/Users/apple/Desktop/test'\n",
    "CATEGORY = ['cats','dogs']\n",
    "IMG_SIZE = 50\n",
    "LR = 1e-3\n",
    "\n",
    "MODEL_NAME =  'dogsvscats-{}-{}.model'.format(LR, '2conv-basic')"
   ]
  },
  {
   "cell_type": "code",
   "execution_count": 3,
   "metadata": {},
   "outputs": [],
   "source": [
    "def label_img(img):\n",
    "    word_label = img.split('.')[0]\n",
    "    if word_label == 'cat':\n",
    "        return [1,0]\n",
    "    elif word_label == 'dog':\n",
    "        return [0,1]"
   ]
  },
  {
   "cell_type": "code",
   "execution_count": 4,
   "metadata": {},
   "outputs": [],
   "source": [
    "def create_train_data():\n",
    "    training_data = []\n",
    "    for category in CATEGORY:\n",
    "        folder = os.path.join(TRAIN_DIR, category)\n",
    "        for img in tqdm(os.listdir(folder)):\n",
    "            label = label_img(img)\n",
    "            path = os.path.join(folder, img)\n",
    "            img = cv2.imread(path)\n",
    "            img = cv2.resize(img, (IMG_SIZE, IMG_SIZE))\n",
    "            \n",
    "            training_data.append([np.array(img), np.array(label)])\n",
    "    random.shuffle(training_data)\n",
    "    np.save('train_data.npy', training_data)\n",
    "    return training_data\n"
   ]
  },
  {
   "cell_type": "code",
   "execution_count": 23,
   "metadata": {},
   "outputs": [],
   "source": [
    "def create_test_data():\n",
    "    testing_data = []\n",
    "    for category in CATEGORY:\n",
    "        folder = os.path.join(TEST_DIR, category)\n",
    "        for img in tqdm(os.listdir(folder)):\n",
    "            label = label_img(img)\n",
    "            img_path = os.path.join(folder, img)\n",
    "            img = cv2.imread(img_path)\n",
    "            img = cv2.resize(img, (IMG_SIZE, IMG_SIZE))\n",
    "            testing_data.append([np.array(img), label])\n",
    "        \n",
    "    random.shuffle(testing_data)\n",
    "    np.save('test_data.npy', testing_data)\n",
    "    return testing_data\n"
   ]
  },
  {
   "cell_type": "code",
   "execution_count": 6,
   "metadata": {},
   "outputs": [
    {
     "name": "stderr",
     "output_type": "stream",
     "text": [
      "100%|██████████| 11500/11500 [00:46<00:00, 246.68it/s]\n",
      "100%|██████████| 11500/11500 [00:56<00:00, 202.47it/s]\n"
     ]
    }
   ],
   "source": [
    "train_data = create_train_data()\n"
   ]
  },
  {
   "cell_type": "code",
   "execution_count": 7,
   "metadata": {},
   "outputs": [
    {
     "data": {
      "text/plain": [
       "[array([[[ 41,  40,  82],\n",
       "         [ 49,  48,  90],\n",
       "         [ 52,  52,  96],\n",
       "         ...,\n",
       "         [ 14,  23,  57],\n",
       "         [  4,  14,  44],\n",
       "         [ 13,  23,  53]],\n",
       " \n",
       "        [[ 36,  40,  67],\n",
       "         [ 42,  42,  81],\n",
       "         [ 49,  48,  96],\n",
       "         ...,\n",
       "         [ 12,  21,  53],\n",
       "         [  1,  10,  40],\n",
       "         [  8,  19,  48]],\n",
       " \n",
       "        [[ 33,  37,  63],\n",
       "         [ 33,  36,  67],\n",
       "         [ 42,  43,  84],\n",
       "         ...,\n",
       "         [ 12,  23,  51],\n",
       "         [  2,  12,  42],\n",
       "         [  6,  16,  46]],\n",
       " \n",
       "        ...,\n",
       " \n",
       "        [[101, 107, 102],\n",
       "         [107, 113, 108],\n",
       "         [115, 122, 114],\n",
       "         ...,\n",
       "         [125, 131, 124],\n",
       "         [121, 125, 120],\n",
       "         [120, 124, 119]],\n",
       " \n",
       "        [[ 96, 102,  97],\n",
       "         [107, 113, 108],\n",
       "         [109, 117, 108],\n",
       "         ...,\n",
       "         [129, 135, 128],\n",
       "         [129, 132, 128],\n",
       "         [118, 122, 117]],\n",
       " \n",
       "        [[103, 109, 104],\n",
       "         [ 99, 105,  99],\n",
       "         [107, 115, 106],\n",
       "         ...,\n",
       "         [126, 132, 125],\n",
       "         [132, 136, 131],\n",
       "         [121, 125, 120]]], dtype=uint8), array([1, 0])]"
      ]
     },
     "execution_count": 7,
     "metadata": {},
     "output_type": "execute_result"
    }
   ],
   "source": [
    "train_data[0]"
   ]
  },
  {
   "cell_type": "code",
   "execution_count": 8,
   "metadata": {},
   "outputs": [],
   "source": [
    "X_train = []\n",
    "y_train = []\n",
    "\n",
    "for features, labels in train_data:\n",
    "    X_train.append(features)\n",
    "    y_train.append(labels)\n",
    "    "
   ]
  },
  {
   "cell_type": "code",
   "execution_count": 9,
   "metadata": {},
   "outputs": [
    {
     "data": {
      "text/plain": [
       "array([[[ 41,  40,  82],\n",
       "        [ 49,  48,  90],\n",
       "        [ 52,  52,  96],\n",
       "        ...,\n",
       "        [ 14,  23,  57],\n",
       "        [  4,  14,  44],\n",
       "        [ 13,  23,  53]],\n",
       "\n",
       "       [[ 36,  40,  67],\n",
       "        [ 42,  42,  81],\n",
       "        [ 49,  48,  96],\n",
       "        ...,\n",
       "        [ 12,  21,  53],\n",
       "        [  1,  10,  40],\n",
       "        [  8,  19,  48]],\n",
       "\n",
       "       [[ 33,  37,  63],\n",
       "        [ 33,  36,  67],\n",
       "        [ 42,  43,  84],\n",
       "        ...,\n",
       "        [ 12,  23,  51],\n",
       "        [  2,  12,  42],\n",
       "        [  6,  16,  46]],\n",
       "\n",
       "       ...,\n",
       "\n",
       "       [[101, 107, 102],\n",
       "        [107, 113, 108],\n",
       "        [115, 122, 114],\n",
       "        ...,\n",
       "        [125, 131, 124],\n",
       "        [121, 125, 120],\n",
       "        [120, 124, 119]],\n",
       "\n",
       "       [[ 96, 102,  97],\n",
       "        [107, 113, 108],\n",
       "        [109, 117, 108],\n",
       "        ...,\n",
       "        [129, 135, 128],\n",
       "        [129, 132, 128],\n",
       "        [118, 122, 117]],\n",
       "\n",
       "       [[103, 109, 104],\n",
       "        [ 99, 105,  99],\n",
       "        [107, 115, 106],\n",
       "        ...,\n",
       "        [126, 132, 125],\n",
       "        [132, 136, 131],\n",
       "        [121, 125, 120]]], dtype=uint8)"
      ]
     },
     "execution_count": 9,
     "metadata": {},
     "output_type": "execute_result"
    }
   ],
   "source": [
    "X_train[0]\n"
   ]
  },
  {
   "cell_type": "code",
   "execution_count": 10,
   "metadata": {},
   "outputs": [
    {
     "data": {
      "text/plain": [
       "array([1, 0])"
      ]
     },
     "execution_count": 10,
     "metadata": {},
     "output_type": "execute_result"
    }
   ],
   "source": [
    "y_train[0]"
   ]
  },
  {
   "cell_type": "code",
   "execution_count": 24,
   "metadata": {},
   "outputs": [
    {
     "name": "stderr",
     "output_type": "stream",
     "text": [
      "100%|██████████| 1000/1000 [00:04<00:00, 204.71it/s]\n",
      "100%|██████████| 1000/1000 [00:04<00:00, 222.01it/s]\n"
     ]
    }
   ],
   "source": [
    "test_data = create_test_data()\n"
   ]
  },
  {
   "cell_type": "code",
   "execution_count": 26,
   "metadata": {},
   "outputs": [],
   "source": [
    "X_test = []\n",
    "y_test = []\n",
    "\n",
    "for features, labels in test_data:\n",
    "    X_test.append(features)\n",
    "    y_test.append(labels)\n",
    "    "
   ]
  },
  {
   "cell_type": "code",
   "execution_count": 28,
   "metadata": {},
   "outputs": [],
   "source": [
    "X_train = np.array(X_train)\n",
    "X_test = np.array(X_test)\n",
    "\n",
    "y_train = np.array(y_train)\n",
    "y_test = np.array(y_test)\n"
   ]
  },
  {
   "cell_type": "code",
   "execution_count": 29,
   "metadata": {},
   "outputs": [
    {
     "data": {
      "text/plain": [
       "(23000, 50, 50, 3)"
      ]
     },
     "execution_count": 29,
     "metadata": {},
     "output_type": "execute_result"
    }
   ],
   "source": [
    "X_train.shape\n"
   ]
  },
  {
   "cell_type": "code",
   "execution_count": 30,
   "metadata": {},
   "outputs": [],
   "source": [
    "import pickle\n"
   ]
  },
  {
   "cell_type": "code",
   "execution_count": 31,
   "metadata": {},
   "outputs": [],
   "source": [
    "X_train = pickle.dump(X_train, open('X_train.pkl','wb'))\n",
    "y_train = pickle.dump(y_train, open('y_train.pkl','wb'))\n",
    "\n",
    "X_test = pickle.dump(X_test, open('X_test.pkl','wb'))\n",
    "y_test= pickle.dump(y_test, open('y_test.pkl','wb'))\n"
   ]
  }
 ],
 "metadata": {
  "kernelspec": {
   "display_name": "Python 3",
   "language": "python",
   "name": "python3"
  },
  "language_info": {
   "codemirror_mode": {
    "name": "ipython",
    "version": 3
   },
   "file_extension": ".py",
   "mimetype": "text/x-python",
   "name": "python",
   "nbconvert_exporter": "python",
   "pygments_lexer": "ipython3",
   "version": "3.7.4"
  }
 },
 "nbformat": 4,
 "nbformat_minor": 4
}
