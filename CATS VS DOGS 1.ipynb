{
 "cells": [
  {
   "cell_type": "markdown",
   "metadata": {},
   "source": [
    "# `PBL PROJECT`"
   ]
  },
  {
   "cell_type": "markdown",
   "metadata": {},
   "source": [
    "## `IMAGE CLASSIFICATION`"
   ]
  },
  {
   "cell_type": "markdown",
   "metadata": {},
   "source": [
    "##### IMPORTING NECESSARY LIBRARIES"
   ]
  },
  {
   "cell_type": "code",
   "execution_count": 1,
   "metadata": {},
   "outputs": [],
   "source": [
    "import numpy as np\n",
    "import cv2            \n",
    "import os        \n",
    "import random\n",
    "import matplotlib.pyplot as plt\n",
    "import pickle\n",
    "from tensorflow.keras.utils import to_categorical"
   ]
  },
  {
   "cell_type": "markdown",
   "metadata": {},
   "source": [
    "##### SETTING TRAIN DATA PATH"
   ]
  },
  {
   "cell_type": "code",
   "execution_count": 2,
   "metadata": {},
   "outputs": [],
   "source": [
    "DIRECTORY = r'/Users/apple/Downloads/dogscats/dogscats'\n",
    "CATEGORY = ['cats','dogs']"
   ]
  },
  {
   "cell_type": "markdown",
   "metadata": {},
   "source": [
    "##### LOADING TRAIN DATA FROM PATH"
   ]
  },
  {
   "cell_type": "code",
   "execution_count": 3,
   "metadata": {},
   "outputs": [],
   "source": [
    "IMG_SIZE = 100\n",
    "\n",
    "data = []\n",
    "\n",
    "\n",
    "for category in CATEGORY:\n",
    "    folder = os.path.join(DIRECTORY, category)\n",
    "    label = CATEGORY.index(category)\n",
    "    label = to_categorical(label)\n",
    "    for img in os.listdir(folder):\n",
    "        img_path = os.path.join(folder, img)\n",
    "        img_arr = cv2.imread(img_path)\n",
    "        img_arr = cv2.resize(img_arr, (IMG_SIZE, IMG_SIZE))\n",
    "        data.append([img_arr, label])\n",
    "        "
   ]
  },
  {
   "cell_type": "markdown",
   "metadata": {},
   "source": [
    "##### SETTING TEST DATA PATH"
   ]
  },
  {
   "cell_type": "code",
   "execution_count": 4,
   "metadata": {},
   "outputs": [],
   "source": [
    "PATH = r'/Users/apple/Desktop/test/'\n",
    "CATEGORIES = ['cats','dogs']\n"
   ]
  },
  {
   "cell_type": "markdown",
   "metadata": {},
   "source": [
    "##### LOADING TEST DATA FROM PATH"
   ]
  },
  {
   "cell_type": "code",
   "execution_count": 5,
   "metadata": {},
   "outputs": [],
   "source": [
    "test_data = []\n",
    "\n",
    "for cate in CATEGORIES:\n",
    "    folder1 = os.path.join(PATH, cate)\n",
    "    label1 = CATEGORIES.index(cate)\n",
    "    label1 = to_categorical(label1)\n",
    "    for img1 in os.listdir(folder1):\n",
    "        img1_path = os.path.join(folder1, img1)\n",
    "        img1_arr = cv2.resize(cv2.imread(img1_path), (IMG_SIZE, IMG_SIZE))\n",
    "        test_data.append([np.array(img1_arr),np.array(label1)])\n",
    "    random.shuffle(test_data)\n",
    "    "
   ]
  },
  {
   "cell_type": "code",
   "execution_count": 6,
   "metadata": {},
   "outputs": [
    {
     "data": {
      "text/plain": [
       "[array([[[ 1, 18, 23],\n",
       "         [21, 49, 66],\n",
       "         [17, 47, 65],\n",
       "         ...,\n",
       "         [10, 42, 25],\n",
       "         [11, 41, 24],\n",
       "         [ 1, 33, 17]],\n",
       " \n",
       "        [[ 1, 16, 26],\n",
       "         [19, 49, 70],\n",
       "         [14, 45, 69],\n",
       "         ...,\n",
       "         [11, 48, 25],\n",
       "         [12, 46, 24],\n",
       "         [ 1, 33, 12]],\n",
       " \n",
       "        [[ 2, 14, 27],\n",
       "         [22, 49, 74],\n",
       "         [12, 42, 69],\n",
       "         ...,\n",
       "         [ 9, 50, 23],\n",
       "         [ 5, 42, 16],\n",
       "         [ 0, 32,  5]],\n",
       " \n",
       "        ...,\n",
       " \n",
       "        [[16, 28, 32],\n",
       "         [ 7, 24, 31],\n",
       "         [11, 30, 42],\n",
       "         ...,\n",
       "         [ 8, 10, 10],\n",
       "         [12, 13, 13],\n",
       "         [13, 15, 15]],\n",
       " \n",
       "        [[17, 29, 34],\n",
       "         [15, 30, 39],\n",
       "         [ 9, 30, 42],\n",
       "         ...,\n",
       "         [ 6,  8,  8],\n",
       "         [11, 13, 13],\n",
       "         [ 9, 12, 12]],\n",
       " \n",
       "        [[19, 30, 38],\n",
       "         [17, 33, 43],\n",
       "         [ 9, 29, 44],\n",
       "         ...,\n",
       "         [ 7,  9,  9],\n",
       "         [ 9, 11, 11],\n",
       "         [ 7,  9,  9]]], dtype=uint8), array([1.], dtype=float32)]"
      ]
     },
     "execution_count": 6,
     "metadata": {},
     "output_type": "execute_result"
    }
   ],
   "source": [
    "test_data[0]"
   ]
  },
  {
   "cell_type": "markdown",
   "metadata": {},
   "source": [
    "##### LOADING FEATURES, LABELS FROM TEST DATA TO LISTS"
   ]
  },
  {
   "cell_type": "code",
   "execution_count": 18,
   "metadata": {},
   "outputs": [],
   "source": [
    "X_dl = []\n",
    "y_dl = []\n",
    "for feat,labe in test_data:\n",
    "    X_dl.append(feat)\n",
    "    y_dl.append(labe)"
   ]
  },
  {
   "cell_type": "markdown",
   "metadata": {},
   "source": [
    "##### LENGTH OF TRAIN DATA"
   ]
  },
  {
   "cell_type": "code",
   "execution_count": 9,
   "metadata": {},
   "outputs": [
    {
     "data": {
      "text/plain": [
       "23000"
      ]
     },
     "execution_count": 9,
     "metadata": {},
     "output_type": "execute_result"
    }
   ],
   "source": [
    "len(data)"
   ]
  },
  {
   "cell_type": "markdown",
   "metadata": {},
   "source": [
    "##### SHUFFELING DATA "
   ]
  },
  {
   "cell_type": "code",
   "execution_count": 10,
   "metadata": {},
   "outputs": [],
   "source": [
    "random.shuffle(data)"
   ]
  },
  {
   "cell_type": "code",
   "execution_count": 11,
   "metadata": {},
   "outputs": [
    {
     "data": {
      "text/plain": [
       "[array([[[ 78, 101, 103],\n",
       "         [ 81, 104, 106],\n",
       "         [ 76,  99, 101],\n",
       "         ...,\n",
       "         [162, 224, 212],\n",
       "         [157, 220, 210],\n",
       "         [147, 213, 202]],\n",
       " \n",
       "        [[ 82, 105, 107],\n",
       "         [ 84, 107, 109],\n",
       "         [ 78, 101, 103],\n",
       "         ...,\n",
       "         [175, 247, 234],\n",
       "         [161, 235, 223],\n",
       "         [158, 234, 222]],\n",
       " \n",
       "        [[ 82, 105, 107],\n",
       "         [ 82, 105, 107],\n",
       "         [ 79, 102, 104],\n",
       "         ...,\n",
       "         [159, 229, 216],\n",
       "         [168, 239, 227],\n",
       "         [163, 236, 224]],\n",
       " \n",
       "        ...,\n",
       " \n",
       "        [[ 70,  72,  72],\n",
       "         [ 72,  74,  74],\n",
       "         [ 72,  74,  74],\n",
       "         ...,\n",
       "         [ 93, 112, 115],\n",
       "         [ 92, 111, 114],\n",
       "         [ 91, 110, 113]],\n",
       " \n",
       "        [[ 68,  70,  70],\n",
       "         [ 71,  73,  73],\n",
       "         [ 70,  72,  72],\n",
       "         ...,\n",
       "         [ 97, 112, 115],\n",
       "         [ 90, 107, 110],\n",
       "         [ 86, 105, 108]],\n",
       " \n",
       "        [[ 71,  73,  73],\n",
       "         [ 68,  70,  70],\n",
       "         [ 70,  72,  72],\n",
       "         ...,\n",
       "         [ 95, 110, 113],\n",
       "         [ 90, 107, 110],\n",
       "         [ 89, 106, 109]]], dtype=uint8), array([1.], dtype=float32)]"
      ]
     },
     "execution_count": 11,
     "metadata": {},
     "output_type": "execute_result"
    }
   ],
   "source": [
    "data[0]"
   ]
  },
  {
   "cell_type": "markdown",
   "metadata": {},
   "source": [
    "##### LOADING FEATURES, LABELS FROM TRAIN DATA TO LISTS"
   ]
  },
  {
   "cell_type": "code",
   "execution_count": 12,
   "metadata": {},
   "outputs": [],
   "source": [
    "X = []\n",
    "y = []\n",
    "\n",
    "for features, labels in data:\n",
    "    X.append(features)\n",
    "    y.append(labels)"
   ]
  },
  {
   "cell_type": "code",
   "execution_count": 13,
   "metadata": {},
   "outputs": [
    {
     "data": {
      "text/plain": [
       "array([[[ 78, 101, 103],\n",
       "        [ 81, 104, 106],\n",
       "        [ 76,  99, 101],\n",
       "        ...,\n",
       "        [162, 224, 212],\n",
       "        [157, 220, 210],\n",
       "        [147, 213, 202]],\n",
       "\n",
       "       [[ 82, 105, 107],\n",
       "        [ 84, 107, 109],\n",
       "        [ 78, 101, 103],\n",
       "        ...,\n",
       "        [175, 247, 234],\n",
       "        [161, 235, 223],\n",
       "        [158, 234, 222]],\n",
       "\n",
       "       [[ 82, 105, 107],\n",
       "        [ 82, 105, 107],\n",
       "        [ 79, 102, 104],\n",
       "        ...,\n",
       "        [159, 229, 216],\n",
       "        [168, 239, 227],\n",
       "        [163, 236, 224]],\n",
       "\n",
       "       ...,\n",
       "\n",
       "       [[ 70,  72,  72],\n",
       "        [ 72,  74,  74],\n",
       "        [ 72,  74,  74],\n",
       "        ...,\n",
       "        [ 93, 112, 115],\n",
       "        [ 92, 111, 114],\n",
       "        [ 91, 110, 113]],\n",
       "\n",
       "       [[ 68,  70,  70],\n",
       "        [ 71,  73,  73],\n",
       "        [ 70,  72,  72],\n",
       "        ...,\n",
       "        [ 97, 112, 115],\n",
       "        [ 90, 107, 110],\n",
       "        [ 86, 105, 108]],\n",
       "\n",
       "       [[ 71,  73,  73],\n",
       "        [ 68,  70,  70],\n",
       "        [ 70,  72,  72],\n",
       "        ...,\n",
       "        [ 95, 110, 113],\n",
       "        [ 90, 107, 110],\n",
       "        [ 89, 106, 109]]], dtype=uint8)"
      ]
     },
     "execution_count": 13,
     "metadata": {},
     "output_type": "execute_result"
    }
   ],
   "source": [
    "X[0]"
   ]
  },
  {
   "cell_type": "code",
   "execution_count": 14,
   "metadata": {},
   "outputs": [
    {
     "data": {
      "text/plain": [
       "array([1.], dtype=float32)"
      ]
     },
     "execution_count": 14,
     "metadata": {},
     "output_type": "execute_result"
    }
   ],
   "source": [
    "y[0]"
   ]
  },
  {
   "cell_type": "markdown",
   "metadata": {},
   "source": [
    "##### SAVING ARRAYS INTO VARIABLES "
   ]
  },
  {
   "cell_type": "code",
   "execution_count": 15,
   "metadata": {},
   "outputs": [],
   "source": [
    "X_ai = np.array(X)\n",
    "y_ai = np.array(y)"
   ]
  },
  {
   "cell_type": "markdown",
   "metadata": {},
   "source": [
    "##### SAVING DATA INTO PICKLE FORMAT FOR FURTHER USE"
   ]
  },
  {
   "cell_type": "code",
   "execution_count": 16,
   "metadata": {},
   "outputs": [],
   "source": [
    "pickle.dump(X_ai, open('X_ai.pkl','wb'))\n",
    "pickle.dump(y_ai, open('y_ai.pkl','wb'))"
   ]
  },
  {
   "cell_type": "code",
   "execution_count": 19,
   "metadata": {},
   "outputs": [],
   "source": [
    "pickle.dump(X_dl, open('X_dl.pkl','wb'))\n",
    "pickle.dump(y_dl, open('y_dl.pkl','wb'))"
   ]
  }
 ],
 "metadata": {
  "kernelspec": {
   "display_name": "Python 3",
   "language": "python",
   "name": "python3"
  },
  "language_info": {
   "codemirror_mode": {
    "name": "ipython",
    "version": 3
   },
   "file_extension": ".py",
   "mimetype": "text/x-python",
   "name": "python",
   "nbconvert_exporter": "python",
   "pygments_lexer": "ipython3",
   "version": "3.7.4"
  }
 },
 "nbformat": 4,
 "nbformat_minor": 4
}
